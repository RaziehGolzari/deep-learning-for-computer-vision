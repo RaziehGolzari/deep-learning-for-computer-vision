{
 "cells": [
  {
   "cell_type": "code",
   "execution_count": 1,
   "metadata": {},
   "outputs": [],
   "source": [
    "import tensorflow as tf\n",
    "import numpy as np"
   ]
  },
  {
   "cell_type": "code",
   "execution_count": 42,
   "metadata": {},
   "outputs": [],
   "source": [
    "tensor_two_d = tf.constant([[1,-2,0],\n",
    "                            [3,5,100],\n",
    "                            [1,5,6]], dtype = tf.float32)"
   ]
  },
  {
   "cell_type": "code",
   "execution_count": 43,
   "metadata": {},
   "outputs": [
    {
     "name": "stdout",
     "output_type": "stream",
     "text": [
      "tf.Tensor([100.3663      5.1059036   1.2371687], shape=(3,), dtype=float32)\n",
      "tf.Tensor(\n",
      "[[-7.4980810e-04 -3.7569830e-01  9.2674178e-01]\n",
      " [ 9.9803799e-01 -5.8300879e-02 -2.2827482e-02]\n",
      " [ 6.2606096e-02  9.2490643e-01  3.7500489e-01]], shape=(3, 3), dtype=float32)\n",
      "tf.Tensor(\n",
      "[[ 0.03044816  0.07330841  0.99684453]\n",
      " [ 0.0528536   0.9957936  -0.07484547]\n",
      " [ 0.998138   -0.05496572 -0.02644547]], shape=(3, 3), dtype=float32)\n"
     ]
    }
   ],
   "source": [
    "s,u,v=tf.linalg.svd(tensor_two_d)\n",
    "print(s)\n",
    "print(u)\n",
    "print(v)\n"
   ]
  },
  {
   "cell_type": "code",
   "execution_count": 44,
   "metadata": {},
   "outputs": [
    {
     "name": "stdout",
     "output_type": "stream",
     "text": [
      "(3, 4)\n",
      "(4, 5)\n"
     ]
    }
   ],
   "source": [
    "A=np.array([[2,6,5,2],\n",
    "            [2,-2,2,3],\n",
    "            [1,5,4,0]])\n",
    "B=np.array([[2,9,0,3,0],\n",
    "            [3,6,8,-2,2],\n",
    "            [1,3,5,0,1],\n",
    "            [3,0,2,0,5]])\n",
    "print(A.shape)\n",
    "print(B.shape)"
   ]
  },
  {
   "cell_type": "code",
   "execution_count": 45,
   "metadata": {},
   "outputs": [
    {
     "name": "stdout",
     "output_type": "stream",
     "text": [
      "matmul c:\n",
      "\n",
      "[[33 69 77 -6 27]\n",
      " [ 9 12  0 10 13]\n",
      " [21 51 60 -7 14]] \n",
      "\n"
     ]
    }
   ],
   "source": [
    "print(\"matmul c:\\n\")\n",
    "print(np.matmul(A,B),\"\\n\")"
   ]
  },
  {
   "cell_type": "code",
   "execution_count": 46,
   "metadata": {},
   "outputs": [
    {
     "name": "stdout",
     "output_type": "stream",
     "text": [
      "Einsum c=:\n",
      "\n",
      "[[33 69 77 -6 27]\n",
      " [ 9 12  0 10 13]\n",
      " [21 51 60 -7 14]]\n"
     ]
    }
   ],
   "source": [
    "print (\"Einsum c=:\\n\")\n",
    "print(np.einsum('ij,jk ->ik',A,B))"
   ]
  },
  {
   "cell_type": "code",
   "execution_count": 47,
   "metadata": {},
   "outputs": [
    {
     "name": "stdout",
     "output_type": "stream",
     "text": [
      "(3, 4) (3, 4)\n",
      "Hadamond C=: \n",
      "\n",
      "[[  4  54   0   6]\n",
      " [  6 -12  16  -6]\n",
      " [  1  15  20   0]] \n",
      "\n",
      "einsum c:= \n",
      "\n",
      "[[  4  54   0   6]\n",
      " [  6 -12  16  -6]\n",
      " [  1  15  20   0]]\n"
     ]
    }
   ],
   "source": [
    "A=np.array([[2,6,5,2],\n",
    "            [2,-2,2,3],\n",
    "            [1,5,4,0]])\n",
    "B=np.array([[2,9,0,3],\n",
    "            [3,6,8,-2],\n",
    "            [1,3,5,1]])\n",
    "\n",
    "print(A.shape,B.shape)\n",
    "\n",
    "print(\"Hadamond C=: \\n\")\n",
    "print(A*B,\"\\n\")\n",
    "\n",
    "print (\"einsum c:= \\n\")\n",
    "print(np.einsum('ij,ij ->ij',A,B))"
   ]
  },
  {
   "cell_type": "code",
   "execution_count": 48,
   "metadata": {},
   "outputs": [
    {
     "name": "stdout",
     "output_type": "stream",
     "text": [
      "Transposed A=: \n",
      "\n",
      "[[ 2  2  1]\n",
      " [ 6 -2  5]\n",
      " [ 5  2  4]\n",
      " [ 2  3  0]] \n",
      "\n",
      "Einsum Transpoes A:= \n",
      "\n",
      "[[ 2  2  1]\n",
      " [ 6 -2  5]\n",
      " [ 5  2  4]\n",
      " [ 2  3  0]]\n"
     ]
    }
   ],
   "source": [
    "A=np.array([[2,6,5,2],\n",
    "            [2,-2,2,3],\n",
    "            [1,5,4,0]])\n",
    "print(\"Transposed A=: \\n\")\n",
    "print(A.T,\"\\n\")\n",
    "print(\"Einsum Transpoes A:= \\n\")\n",
    "print (np.einsum(\"ij -> ji \",A))"
   ]
  },
  {
   "cell_type": "code",
   "execution_count": 49,
   "metadata": {},
   "outputs": [
    {
     "name": "stdout",
     "output_type": "stream",
     "text": [
      "batch multiplication C=: \n",
      "\n",
      "[[[33 69 75 -4 17]\n",
      "  [ 9 12 -3 13 -2]\n",
      "  [24 51 61 -6 14]]\n",
      "\n",
      " [[77  0 27 28  0]\n",
      "  [ 8  0  6  2  0]\n",
      "  [23  0 14  9  0]]] \n",
      "\n",
      "einsum c =: \n",
      "\n",
      "[[[33 69 75 -4 17]\n",
      "  [ 9 12 -3 13 -2]\n",
      "  [24 51 61 -6 14]]\n",
      "\n",
      " [[77  0 27 28  0]\n",
      "  [ 8  0  6  2  0]\n",
      "  [23  0 14  9  0]]]\n"
     ]
    }
   ],
   "source": [
    "A=np.array([\n",
    "    [[2,6,5,2],\n",
    "     [2,-2,2,3],\n",
    "     [1,5,4,1]],\n",
    "\n",
    "     [[1,3,1,22],\n",
    "      [0,2,2,0],\n",
    "      [1,5,4,1]]  ])\n",
    "\n",
    "B=np.array([\n",
    "          [[2,9,0,3,0],\n",
    "          [3,6,8,-2,2],\n",
    "          [1,3,5,0,1],\n",
    "          [3,0,1,1,0]],\n",
    "          [[1,0,0,3,0],\n",
    "           [3,0,1,1,0],\n",
    "           [1,0,2,0,0],\n",
    "           [3,0,1,1,0]]\n",
    "      ])\n",
    "print(\"batch multiplication C=: \\n\")\n",
    "print(np.matmul(A,B), \"\\n\")\n",
    "\n",
    "print(\"einsum c =: \\n\")\n",
    "print(np.einsum('bij,bjk ->bik',A,B))"
   ]
  },
  {
   "cell_type": "code",
   "execution_count": 50,
   "metadata": {},
   "outputs": [
    {
     "name": "stdout",
     "output_type": "stream",
     "text": [
      "Sum A=: \n",
      "\n",
      "72 \n",
      "\n",
      "Einsum A=: \n",
      "\n",
      "72\n"
     ]
    }
   ],
   "source": [
    "A=np.array([\n",
    "    [[2,6,5,2],\n",
    "     [2,-2,2,3],\n",
    "     [1,5,4,0]],\n",
    "\n",
    "     [[1,3,1,22],\n",
    "      [0,2,2,0],\n",
    "      [1,5,4,1]]\n",
    "])\n",
    "print(\"Sum A=: \\n\")\n",
    "print(np.sum(A), \"\\n\")\n",
    "\n",
    "print (\"Einsum A=: \\n\")\n",
    "print(np.einsum('bij ->',A))"
   ]
  },
  {
   "cell_type": "code",
   "execution_count": 51,
   "metadata": {},
   "outputs": [
    {
     "name": "stdout",
     "output_type": "stream",
     "text": [
      "Axis 0 Sum A=: \n",
      "\n",
      "[ 5  9 11  5] \n",
      "\n",
      "Einsum A =: \n",
      "\n",
      "[ 5  9 11  5]\n",
      "---------------------------------\n",
      "Axis 1 Sum A =: \n",
      "\n",
      "[15  5 10] \n",
      "\n",
      "Einsum A =: \n",
      "\n",
      "[15  5 10]\n"
     ]
    }
   ],
   "source": [
    "A=np.array(\n",
    "    [[2,6,5,2],\n",
    "     [2,-2,2,3],\n",
    "     [1,5,4,0]])\n",
    "print(\"Axis 0 Sum A=: \\n\")\n",
    "print(np.sum(A, axis = 0),\"\\n\")\n",
    "\n",
    "print(\"Einsum A =: \\n\")\n",
    "print(np.einsum('ij -> j',A))\n",
    "print(\"---------------------------------\")\n",
    "\n",
    "print(\"Axis 1 Sum A =: \\n\")\n",
    "print(np.sum(A,axis = 1),\"\\n\")\n",
    "\n",
    "print(\"Einsum A =: \\n\")\n",
    "print(np.einsum('ij -> i',A))"
   ]
  },
  {
   "cell_type": "code",
   "execution_count": 40,
   "metadata": {},
   "outputs": [],
   "source": [
    "#Q=batchsize, s_q, modelsize\n",
    "#K=batchsize, s_k, modelsize\n",
    "\n",
    "Q=np.random.randn(32,64,512) #bqm\n",
    "K=np.random.randn(32,1284,512) #bkm\n",
    "#np.einsum(\"bqm,bkm -> ,Q,K\").shape\n"
   ]
  },
  {
   "cell_type": "code",
   "execution_count": 64,
   "metadata": {},
   "outputs": [],
   "source": [
    "A=np.random.randn(2,4,4,2)#bcji\n",
    "B=np.random.randn(2,4,4,1)#bcik"
   ]
  },
  {
   "cell_type": "code",
   "execution_count": 65,
   "metadata": {},
   "outputs": [
    {
     "data": {
      "text/plain": [
       "(2, 4, 1, 2)"
      ]
     },
     "execution_count": 65,
     "metadata": {},
     "output_type": "execute_result"
    }
   ],
   "source": [
    "np.einsum(\"bcik,bcij -> bckj\",B,A).shape"
   ]
  },
  {
   "cell_type": "code",
   "execution_count": 66,
   "metadata": {},
   "outputs": [
    {
     "data": {
      "text/plain": [
       "array([[[[ 0.79568248,  0.18612783]],\n",
       "\n",
       "        [[-2.206465  ,  1.40063548]],\n",
       "\n",
       "        [[-2.70772247, -1.55157856]],\n",
       "\n",
       "        [[ 0.04117308, -1.37082547]]],\n",
       "\n",
       "\n",
       "       [[[-6.29491621,  1.12718587]],\n",
       "\n",
       "        [[ 0.49331577,  0.85768677]],\n",
       "\n",
       "        [[ 0.42175397, -6.02321605]],\n",
       "\n",
       "        [[ 0.9521864 ,  0.14506139]]]])"
      ]
     },
     "execution_count": 66,
     "metadata": {},
     "output_type": "execute_result"
    }
   ],
   "source": [
    "np.einsum(\"bcik,bcij -> bckj\",B,A)"
   ]
  },
  {
   "cell_type": "code",
   "execution_count": 67,
   "metadata": {},
   "outputs": [
    {
     "data": {
      "text/plain": [
       "array([[[[ 0.79568248,  0.18612783]],\n",
       "\n",
       "        [[-2.206465  ,  1.40063548]],\n",
       "\n",
       "        [[-2.70772247, -1.55157856]],\n",
       "\n",
       "        [[ 0.04117308, -1.37082547]]],\n",
       "\n",
       "\n",
       "       [[[-6.29491621,  1.12718587]],\n",
       "\n",
       "        [[ 0.49331577,  0.85768677]],\n",
       "\n",
       "        [[ 0.42175397, -6.02321605]],\n",
       "\n",
       "        [[ 0.9521864 ,  0.14506139]]]])"
      ]
     },
     "execution_count": 67,
     "metadata": {},
     "output_type": "execute_result"
    }
   ],
   "source": [
    "np.matmul(np.transpose(B,(0,1,3,2)),A)"
   ]
  },
  {
   "cell_type": "code",
   "execution_count": 57,
   "metadata": {},
   "outputs": [],
   "source": [
    "A=np.random.randn(2,4,6,4,2)#bcij\n",
    "B=np.random.randn(2,4,6,4,1)#bcik"
   ]
  },
  {
   "cell_type": "code",
   "execution_count": 60,
   "metadata": {},
   "outputs": [
    {
     "data": {
      "text/plain": [
       "(2, 4, 6, 1, 2)"
      ]
     },
     "execution_count": 60,
     "metadata": {},
     "output_type": "execute_result"
    }
   ],
   "source": [
    "np.einsum(\"bcdik,bcdij -> bcdkj\",B,A).shape"
   ]
  },
  {
   "cell_type": "code",
   "execution_count": 73,
   "metadata": {},
   "outputs": [
    {
     "name": "stdout",
     "output_type": "stream",
     "text": [
      "3\n",
      "(4, 2, 3)\n",
      "(1, 4, 2, 3)\n"
     ]
    }
   ],
   "source": [
    "tensor_three_d=tf.constant([[[1,2,0],\n",
    "                             [3,5,-1]],\n",
    "                             \n",
    "                             [[10,2,0],\n",
    "                             [1,0,2]],\n",
    "\n",
    "                             [[5,8,0],\n",
    "                             [2,7,0]],\n",
    "                             \n",
    "                             [[2,1,9],\n",
    "                             [4,-3,32]]])\n",
    "print(tensor_three_d.ndim)\n",
    "print(tensor_three_d.shape)\n",
    "print(tf.expand_dims(tensor_three_d, axis = 0).shape)"
   ]
  },
  {
   "cell_type": "code",
   "execution_count": null,
   "metadata": {},
   "outputs": [
    {
     "name": "stdout",
     "output_type": "stream",
     "text": [
      "(4,)\n",
      "tf.Tensor([[2 3 4 5]], shape=(1, 4), dtype=int32)\n"
     ]
    }
   ],
   "source": [
    "x=tf.constant([2,3,4,5])\n",
    "print(x.shape)\n",
    "print(tf.expand_dims(x, axis = 0))"
   ]
  },
  {
   "cell_type": "code",
   "execution_count": 80,
   "metadata": {},
   "outputs": [
    {
     "name": "stdout",
     "output_type": "stream",
     "text": [
      "(1, 1, 4)\n",
      "tf.Tensor([[[[2 3 4 5]]]], shape=(1, 1, 1, 4), dtype=int32)\n"
     ]
    }
   ],
   "source": [
    "x=tf.constant([[[2,3,4,5]]])\n",
    "print(x.shape)\n",
    "x_expanded=tf.expand_dims(x, axis = 0)\n",
    "print(x_expanded)"
   ]
  },
  {
   "cell_type": "code",
   "execution_count": 81,
   "metadata": {},
   "outputs": [],
   "source": [
    "x_squeezed=tf.squeeze(x_expanded , axis =0 )\n",
    "for i in range(2):\n",
    "    x_squeezed = tf.squeeze(x_squeezed, axis = 0)"
   ]
  },
  {
   "cell_type": "code",
   "execution_count": 82,
   "metadata": {},
   "outputs": [
    {
     "name": "stdout",
     "output_type": "stream",
     "text": [
      "tf.Tensor([2 3 4 5], shape=(4,), dtype=int32)\n"
     ]
    }
   ],
   "source": [
    "print(x_squeezed)"
   ]
  },
  {
   "cell_type": "code",
   "execution_count": 91,
   "metadata": {},
   "outputs": [
    {
     "name": "stdout",
     "output_type": "stream",
     "text": [
      "(4, 2, 3)\n",
      "(4, 2, 3, 1)\n",
      "tf.Tensor(\n",
      "[[[ 1  2  0]\n",
      "  [ 3  5 -1]]\n",
      "\n",
      " [[10  2  0]\n",
      "  [ 1  0  2]]\n",
      "\n",
      " [[ 5  8  0]\n",
      "  [ 2  7  0]]\n",
      "\n",
      " [[ 2  1  9]\n",
      "  [ 4 -3 32]]], shape=(4, 2, 3), dtype=int32)\n",
      "(4, 2, 3)\n"
     ]
    }
   ],
   "source": [
    "tensor_three_d=tf.constant([[[1,2,0],\n",
    "                             [3,5,-1]],\n",
    "                             \n",
    "                             [[10,2,0],\n",
    "                             [1,0,2]],\n",
    "\n",
    "                             [[5,8,0],\n",
    "                             [2,7,0]],\n",
    "                             \n",
    "                             [[2,1,9],\n",
    "                             [4,-3,32]]])\n",
    "\n",
    "print(tensor_three_d.shape)\n",
    "x_exp=tf.expand_dims(tensor_three_d, axis = 3)\n",
    "print(x_exp.shape)\n",
    "print(tf.squeeze(x_exp, axis = 3))\n",
    "print(tf.reshape(x_exp, [4,2,3]).shape)"
   ]
  },
  {
   "cell_type": "code",
   "execution_count": 94,
   "metadata": {},
   "outputs": [
    {
     "name": "stdout",
     "output_type": "stream",
     "text": [
      "tf.Tensor(\n",
      "[[[ 1  2  0]\n",
      "  [ 3  5 -1]]\n",
      "\n",
      " [[10  2  0]\n",
      "  [ 1  0  2]]\n",
      "\n",
      " [[ 5  8  0]\n",
      "  [ 2  7  0]]\n",
      "\n",
      " [[ 2  1  9]\n",
      "  [ 4 -3 32]]], shape=(4, 2, 3), dtype=int32)\n",
      "(4, 2, 3)\n"
     ]
    }
   ],
   "source": [
    "print(tf.squeeze(x_exp, axis = 3))\n",
    "print(tf.reshape(x_exp, [4,2,3]).shape)"
   ]
  },
  {
   "cell_type": "code",
   "execution_count": 96,
   "metadata": {},
   "outputs": [
    {
     "data": {
      "text/plain": [
       "<tf.Tensor: shape=(8,), dtype=int32, numpy=array([ 3,  5,  6,  6,  4,  6, -1,  2])>"
      ]
     },
     "execution_count": 96,
     "metadata": {},
     "output_type": "execute_result"
    }
   ],
   "source": [
    "x_reshape = tf.constant([[3,5,6,6],\n",
    "                        [4,6,-1,2]])\n",
    "\n",
    "tf.reshape(x_reshape,[8])"
   ]
  },
  {
   "cell_type": "code",
   "execution_count": 98,
   "metadata": {},
   "outputs": [
    {
     "data": {
      "text/plain": [
       "<tf.Tensor: shape=(4, 2, 1), dtype=int32, numpy=\n",
       "array([[[ 3],\n",
       "        [ 5]],\n",
       "\n",
       "       [[ 6],\n",
       "        [ 6]],\n",
       "\n",
       "       [[ 4],\n",
       "        [ 6]],\n",
       "\n",
       "       [[-1],\n",
       "        [ 2]]])>"
      ]
     },
     "execution_count": 98,
     "metadata": {},
     "output_type": "execute_result"
    }
   ],
   "source": [
    "x_reshape = tf.constant([[3,5,6,6],\n",
    "                        [4,6,-1,2]])\n",
    "\n",
    "tf.reshape(x_reshape,[4,2,1])"
   ]
  },
  {
   "cell_type": "code",
   "execution_count": 102,
   "metadata": {},
   "outputs": [
    {
     "name": "stdout",
     "output_type": "stream",
     "text": [
      "(2, 3)\n",
      "(2, 3)\n"
     ]
    },
    {
     "data": {
      "text/plain": [
       "<tf.Tensor: shape=(4, 3), dtype=int32, numpy=\n",
       "array([[ 1,  2,  3],\n",
       "       [ 4,  5,  6],\n",
       "       [ 7,  8,  9],\n",
       "       [10, 11, 12]])>"
      ]
     },
     "execution_count": 102,
     "metadata": {},
     "output_type": "execute_result"
    }
   ],
   "source": [
    "t1 = [[1,2,3],\n",
    "      [4,5,6]]\n",
    "t2=[[7,8,9],\n",
    "    [10,11,12]]\n",
    "print(tf.constant(t1).shape)\n",
    "print(tf.constant(t2).shape)\n",
    "\n",
    "tf.concat([t1 , t2], axis = 0)"
   ]
  },
  {
   "cell_type": "code",
   "execution_count": 103,
   "metadata": {},
   "outputs": [
    {
     "name": "stdout",
     "output_type": "stream",
     "text": [
      "(2, 3)\n",
      "(2, 3)\n"
     ]
    },
    {
     "data": {
      "text/plain": [
       "<tf.Tensor: shape=(2, 6), dtype=int32, numpy=\n",
       "array([[ 1,  2,  3,  7,  8,  9],\n",
       "       [ 4,  5,  6, 10, 11, 12]])>"
      ]
     },
     "execution_count": 103,
     "metadata": {},
     "output_type": "execute_result"
    }
   ],
   "source": [
    "t1 = [[1,2,3],\n",
    "      [4,5,6]]\n",
    "t2=[[7,8,9],\n",
    "    [10,11,12]]\n",
    "print(tf.constant(t1).shape)\n",
    "print(tf.constant(t2).shape)\n",
    "\n",
    "tf.concat([t1 , t2], axis = 1)"
   ]
  },
  {
   "cell_type": "code",
   "execution_count": 104,
   "metadata": {},
   "outputs": [
    {
     "name": "stdout",
     "output_type": "stream",
     "text": [
      "(1, 2, 3)\n",
      "(1, 2, 3)\n"
     ]
    },
    {
     "data": {
      "text/plain": [
       "<tf.Tensor: shape=(2, 2, 3), dtype=int32, numpy=\n",
       "array([[[ 1,  2,  3],\n",
       "        [ 4,  5,  6]],\n",
       "\n",
       "       [[ 7,  8,  9],\n",
       "        [10, 11, 12]]])>"
      ]
     },
     "execution_count": 104,
     "metadata": {},
     "output_type": "execute_result"
    }
   ],
   "source": [
    "t1 = [[[1,2,3],\n",
    "      [4,5,6]]]\n",
    "t2=[[[7,8,9],\n",
    "    [10,11,12]]]\n",
    "print(tf.constant(t1).shape)\n",
    "print(tf.constant(t2).shape)\n",
    "\n",
    "tf.concat([t1 , t2], axis = 0)"
   ]
  },
  {
   "cell_type": "code",
   "execution_count": null,
   "metadata": {},
   "outputs": [
    {
     "name": "stdout",
     "output_type": "stream",
     "text": [
      "(1, 2, 3)\n",
      "(1, 2, 3)\n"
     ]
    },
    {
     "data": {
      "text/plain": [
       "<tf.Tensor: shape=(1, 4, 3), dtype=int32, numpy=\n",
       "array([[[ 1,  2,  3],\n",
       "        [ 4,  5,  6],\n",
       "        [ 7,  8,  9],\n",
       "        [10, 11, 12]]])>"
      ]
     },
     "execution_count": 105,
     "metadata": {},
     "output_type": "execute_result"
    }
   ],
   "source": [
    "t1 = [[[1,2,3],\n",
    "      [4,5,6]]]\n",
    "t2=[[[7,8,9],\n",
    "    [10,11,12]]]\n",
    "\n",
    "print(tf.constant(t1).shape)\n",
    "print(tf.constant(t2).shape)\n",
    "\n",
    "tf.concat([t1 , t2], axis = 1)"
   ]
  },
  {
   "cell_type": "code",
   "execution_count": 106,
   "metadata": {},
   "outputs": [
    {
     "name": "stdout",
     "output_type": "stream",
     "text": [
      "(1, 2, 3)\n",
      "(1, 2, 3)\n"
     ]
    },
    {
     "data": {
      "text/plain": [
       "<tf.Tensor: shape=(1, 2, 6), dtype=int32, numpy=\n",
       "array([[[ 1,  2,  3,  7,  8,  9],\n",
       "        [ 4,  5,  6, 10, 11, 12]]])>"
      ]
     },
     "execution_count": 106,
     "metadata": {},
     "output_type": "execute_result"
    }
   ],
   "source": [
    "t1 = [[[1,2,3],\n",
    "      [4,5,6]]]\n",
    "t2=[[[7,8,9],\n",
    "    [10,11,12]]]\n",
    "print(tf.constant(t1).shape)\n",
    "print(tf.constant(t2).shape)\n",
    "\n",
    "tf.concat([t1 , t2], axis = 2)"
   ]
  },
  {
   "cell_type": "code",
   "execution_count": 107,
   "metadata": {},
   "outputs": [
    {
     "data": {
      "text/plain": [
       "<tf.Tensor: shape=(2, 1, 2, 3), dtype=int32, numpy=\n",
       "array([[[[ 1,  2,  3],\n",
       "         [ 4,  5,  6]]],\n",
       "\n",
       "\n",
       "       [[[ 7,  8,  9],\n",
       "         [10, 11, 12]]]])>"
      ]
     },
     "execution_count": 107,
     "metadata": {},
     "output_type": "execute_result"
    }
   ],
   "source": [
    "tf.stack([t1,t2],axis = 0)"
   ]
  },
  {
   "cell_type": "code",
   "execution_count": 109,
   "metadata": {},
   "outputs": [
    {
     "data": {
      "text/plain": [
       "<tf.Tensor: shape=(3, 1, 2, 3), dtype=int32, numpy=\n",
       "array([[[[ 1,  2,  3],\n",
       "         [ 4,  5,  6]]],\n",
       "\n",
       "\n",
       "       [[[ 7,  8,  9],\n",
       "         [10, 11, 12]]],\n",
       "\n",
       "\n",
       "       [[[ 1,  2,  3],\n",
       "         [ 4,  5,  6]]]])>"
      ]
     },
     "execution_count": 109,
     "metadata": {},
     "output_type": "execute_result"
    }
   ],
   "source": [
    "tf.stack([t1,t2,t1],axis = 0)"
   ]
  },
  {
   "cell_type": "code",
   "execution_count": 110,
   "metadata": {},
   "outputs": [],
   "source": [
    "t1 = [[1,2,3],\n",
    "      [4,5,6],\n",
    "      [5,6,2],\n",
    "      [5,2,1]]\n",
    "t2=[[7,8,9],\n",
    "    [10,11,12],\n",
    "    [4,5,6],\n",
    "    [5,6,2]]"
   ]
  },
  {
   "cell_type": "code",
   "execution_count": 111,
   "metadata": {},
   "outputs": [
    {
     "data": {
      "text/plain": [
       "<tf.Tensor: shape=(2, 4, 3), dtype=int32, numpy=\n",
       "array([[[ 1,  2,  3],\n",
       "        [ 4,  5,  6],\n",
       "        [ 5,  6,  2],\n",
       "        [ 5,  2,  1]],\n",
       "\n",
       "       [[ 7,  8,  9],\n",
       "        [10, 11, 12],\n",
       "        [ 4,  5,  6],\n",
       "        [ 5,  6,  2]]])>"
      ]
     },
     "execution_count": 111,
     "metadata": {},
     "output_type": "execute_result"
    }
   ],
   "source": [
    "tf.stack([t1,t2],axis = 0)"
   ]
  },
  {
   "cell_type": "code",
   "execution_count": 112,
   "metadata": {},
   "outputs": [
    {
     "data": {
      "text/plain": [
       "<tf.Tensor: shape=(4, 2, 3), dtype=int32, numpy=\n",
       "array([[[ 1,  2,  3],\n",
       "        [ 7,  8,  9]],\n",
       "\n",
       "       [[ 4,  5,  6],\n",
       "        [10, 11, 12]],\n",
       "\n",
       "       [[ 5,  6,  2],\n",
       "        [ 4,  5,  6]],\n",
       "\n",
       "       [[ 5,  2,  1],\n",
       "        [ 5,  6,  2]]])>"
      ]
     },
     "execution_count": 112,
     "metadata": {},
     "output_type": "execute_result"
    }
   ],
   "source": [
    "tf.stack([t1,t2],axis = 1)"
   ]
  },
  {
   "cell_type": "code",
   "execution_count": 113,
   "metadata": {},
   "outputs": [
    {
     "data": {
      "text/plain": [
       "<tf.Tensor: shape=(3, 4, 3), dtype=int32, numpy=\n",
       "array([[[ 1,  2,  3],\n",
       "        [ 4,  5,  6],\n",
       "        [ 5,  6,  2],\n",
       "        [ 5,  2,  1]],\n",
       "\n",
       "       [[ 7,  8,  9],\n",
       "        [10, 11, 12],\n",
       "        [ 4,  5,  6],\n",
       "        [ 5,  6,  2]],\n",
       "\n",
       "       [[ 1,  2,  3],\n",
       "        [ 4,  5,  6],\n",
       "        [ 5,  6,  2],\n",
       "        [ 5,  2,  1]]])>"
      ]
     },
     "execution_count": 113,
     "metadata": {},
     "output_type": "execute_result"
    }
   ],
   "source": [
    "tf.stack([t1,t2,t1],axis = 0) "
   ]
  },
  {
   "cell_type": "code",
   "execution_count": 114,
   "metadata": {},
   "outputs": [
    {
     "data": {
      "text/plain": [
       "<tf.Tensor: shape=(4, 3, 3), dtype=int32, numpy=\n",
       "array([[[ 1,  2,  3],\n",
       "        [ 7,  8,  9],\n",
       "        [ 1,  2,  3]],\n",
       "\n",
       "       [[ 4,  5,  6],\n",
       "        [10, 11, 12],\n",
       "        [ 4,  5,  6]],\n",
       "\n",
       "       [[ 5,  6,  2],\n",
       "        [ 4,  5,  6],\n",
       "        [ 5,  6,  2]],\n",
       "\n",
       "       [[ 5,  2,  1],\n",
       "        [ 5,  6,  2],\n",
       "        [ 5,  2,  1]]])>"
      ]
     },
     "execution_count": 114,
     "metadata": {},
     "output_type": "execute_result"
    }
   ],
   "source": [
    "tf.stack([t1,t2,t1],axis = 1)"
   ]
  },
  {
   "cell_type": "code",
   "execution_count": 116,
   "metadata": {},
   "outputs": [
    {
     "data": {
      "text/plain": [
       "<tf.Tensor: shape=(4, 3, 3), dtype=int32, numpy=\n",
       "array([[[ 1,  7,  1],\n",
       "        [ 2,  8,  2],\n",
       "        [ 3,  9,  3]],\n",
       "\n",
       "       [[ 4, 10,  4],\n",
       "        [ 5, 11,  5],\n",
       "        [ 6, 12,  6]],\n",
       "\n",
       "       [[ 5,  4,  5],\n",
       "        [ 6,  5,  6],\n",
       "        [ 2,  6,  2]],\n",
       "\n",
       "       [[ 5,  5,  5],\n",
       "        [ 2,  6,  2],\n",
       "        [ 1,  2,  1]]])>"
      ]
     },
     "execution_count": 116,
     "metadata": {},
     "output_type": "execute_result"
    }
   ],
   "source": [
    "tf.stack([t1,t2,t1],axis = 2)"
   ]
  },
  {
   "cell_type": "code",
   "execution_count": 118,
   "metadata": {},
   "outputs": [
    {
     "data": {
      "text/plain": [
       "<tf.Tensor: shape=(4, 3, 2), dtype=int32, numpy=\n",
       "array([[[ 1,  7],\n",
       "        [ 2,  8],\n",
       "        [ 3,  9]],\n",
       "\n",
       "       [[ 4, 10],\n",
       "        [ 5, 11],\n",
       "        [ 6, 12]],\n",
       "\n",
       "       [[ 5,  4],\n",
       "        [ 6,  5],\n",
       "        [ 2,  6]],\n",
       "\n",
       "       [[ 5,  5],\n",
       "        [ 2,  6],\n",
       "        [ 1,  2]]])>"
      ]
     },
     "execution_count": 118,
     "metadata": {},
     "output_type": "execute_result"
    }
   ],
   "source": [
    "tf.stack([t1,t2],axis = 2)"
   ]
  },
  {
   "cell_type": "code",
   "execution_count": 120,
   "metadata": {},
   "outputs": [
    {
     "data": {
      "text/plain": [
       "<tf.Tensor: shape=(2, 4, 3), dtype=int32, numpy=\n",
       "array([[[ 1,  2,  3],\n",
       "        [ 4,  5,  6],\n",
       "        [ 5,  6,  2],\n",
       "        [ 5,  2,  1]],\n",
       "\n",
       "       [[ 7,  8,  9],\n",
       "        [10, 11, 12],\n",
       "        [ 4,  5,  6],\n",
       "        [ 5,  6,  2]]])>"
      ]
     },
     "execution_count": 120,
     "metadata": {},
     "output_type": "execute_result"
    }
   ],
   "source": [
    "tf.concat([tf.expand_dims(t, axis = 0) for t in[t1,t2]], axis = 0)"
   ]
  },
  {
   "cell_type": "code",
   "execution_count": 2,
   "metadata": {},
   "outputs": [
    {
     "name": "stdout",
     "output_type": "stream",
     "text": [
      "(6,)\n"
     ]
    },
    {
     "data": {
      "text/plain": [
       "<tf.Tensor: shape=(3,), dtype=string, numpy=array([b'p1', b'p2', b'p3'], dtype=object)>"
      ]
     },
     "execution_count": 2,
     "metadata": {},
     "output_type": "execute_result"
    }
   ],
   "source": [
    "params = tf.constant(['p0', 'p1', 'p2', 'p3', 'p4', 'p5'])\n",
    "print(params.shape)\n",
    "params[1:3+1]"
   ]
  },
  {
   "cell_type": "code",
   "execution_count": 3,
   "metadata": {},
   "outputs": [
    {
     "data": {
      "text/plain": [
       "<tf.Tensor: shape=(3,), dtype=string, numpy=array([b'p0', b'p5', b'p3'], dtype=object)>"
      ]
     },
     "execution_count": 3,
     "metadata": {},
     "output_type": "execute_result"
    }
   ],
   "source": [
    "tf.gather(params, [0,5,3], axis = 0)\n",
    "     "
   ]
  },
  {
   "cell_type": "code",
   "execution_count": 5,
   "metadata": {},
   "outputs": [
    {
     "name": "stdout",
     "output_type": "stream",
     "text": [
      "(1, 4, 3)\n"
     ]
    },
    {
     "data": {
      "text/plain": [
       "<tf.Tensor: shape=(1, 2, 3), dtype=float32, numpy=\n",
       "array([[[20., 21., 22.],\n",
       "        [ 0.,  1.,  2.]]], dtype=float32)>"
      ]
     },
     "execution_count": 5,
     "metadata": {},
     "output_type": "execute_result"
    }
   ],
   "source": [
    "params = tf.constant([\n",
    "\n",
    "                      [[0, 1.0, 2.0],\n",
    "                      [10.0, 11.0, 12.0],\n",
    "                      [20.0, 21.0, 22.0],\n",
    "                      [30.0, 31.0, 32.0]]\n",
    "\n",
    "                       ])\n",
    "print(params.shape)\n",
    "tf.gather(params, [2,0], axis = 1)"
   ]
  },
  {
   "cell_type": "code",
   "execution_count": 6,
   "metadata": {},
   "outputs": [
    {
     "data": {
      "text/plain": [
       "<tf.Tensor: shape=(1, 2), dtype=string, numpy=array([[b'e', b'f']], dtype=object)>"
      ]
     },
     "execution_count": 6,
     "metadata": {},
     "output_type": "execute_result"
    }
   ],
   "source": [
    "indices = [[2]]\n",
    "\n",
    "params = [['a', 'b'],\n",
    "          ['c', 'd'],\n",
    "          ['e', 'f']]\n",
    "\n",
    "tf.gather_nd(params, indices)"
   ]
  },
  {
   "cell_type": "code",
   "execution_count": 7,
   "metadata": {},
   "outputs": [],
   "source": [
    "indices = [[0,1],\n",
    "           [1,0]],\n",
    "\n",
    "\n",
    "params = [[['a0', 'b0'],\n",
    "           ['c0', 'd0']],\n",
    "\n",
    "           [['a1', 'b1'],\n",
    "            ['c1', 'd1']]]"
   ]
  },
  {
   "cell_type": "code",
   "execution_count": 8,
   "metadata": {},
   "outputs": [
    {
     "name": "stdout",
     "output_type": "stream",
     "text": [
      "(4, 3)\n"
     ]
    }
   ],
   "source": [
    "tensor_two_d=tf.constant([[1,2,0],\n",
    "                          [3,5,-1],\n",
    "                          [1,5,6],\n",
    "                          [2,3,8]])\n",
    "\n",
    "print(tensor_two_d.shape)\n",
    "     "
   ]
  },
  {
   "cell_type": "code",
   "execution_count": 9,
   "metadata": {},
   "outputs": [
    {
     "name": "stdout",
     "output_type": "stream",
     "text": [
      "<tf.RaggedTensor [[1, 2, 0], [3], [1, 5, 6, 5, 6], [2, 3]]>\n"
     ]
    }
   ],
   "source": [
    "tensor_two_d = [[1,2,0],\n",
    "                [3,],\n",
    "                [1,5,6,5,6],\n",
    "                [2,3]]\n",
    "\n",
    "tensor_ragged = tf.ragged.constant(tensor_two_d)\n",
    "print(tensor_ragged)\n",
    "     "
   ]
  },
  {
   "cell_type": "code",
   "execution_count": 10,
   "metadata": {},
   "outputs": [
    {
     "name": "stdout",
     "output_type": "stream",
     "text": [
      "<tf.RaggedTensor [[3, 1, 4, 1], [], [5, 9, 2], [6], []]>\n"
     ]
    }
   ],
   "source": [
    "print(tf.RaggedTensor.from_row_lengths(\n",
    "      values=[3,1,4,1,5,9,2,6],\n",
    "      row_lengths=[4,0,3,1,0]))\n",
    "     "
   ]
  },
  {
   "cell_type": "code",
   "execution_count": 11,
   "metadata": {},
   "outputs": [
    {
     "data": {
      "text/plain": [
       "<tf.Tensor: shape=(1, 2, 2), dtype=string, numpy=\n",
       "array([[[b'c0', b'd0'],\n",
       "        [b'a1', b'b1']]], dtype=object)>"
      ]
     },
     "execution_count": 11,
     "metadata": {},
     "output_type": "execute_result"
    }
   ],
   "source": [
    "tf.gather_nd(params, indices, batch_dims = 0)"
   ]
  },
  {
   "cell_type": "code",
   "execution_count": 12,
   "metadata": {},
   "outputs": [],
   "source": [
    "tensor_sparse = tf.SparseTensor(\n",
    "    indices=[[1,1],[3,4]], values = [11,56], dense_shape = [5,6]\n",
    ")"
   ]
  },
  {
   "cell_type": "code",
   "execution_count": 13,
   "metadata": {},
   "outputs": [
    {
     "name": "stdout",
     "output_type": "stream",
     "text": [
      "SparseTensor(indices=tf.Tensor(\n",
      "[[1 1]\n",
      " [3 4]], shape=(2, 2), dtype=int64), values=tf.Tensor([11 56], shape=(2,), dtype=int32), dense_shape=tf.Tensor([5 6], shape=(2,), dtype=int64))\n"
     ]
    }
   ],
   "source": [
    "print(tensor_sparse)"
   ]
  },
  {
   "cell_type": "code",
   "execution_count": 14,
   "metadata": {},
   "outputs": [
    {
     "data": {
      "text/plain": [
       "<tf.Tensor: shape=(5, 6), dtype=int32, numpy=\n",
       "array([[ 0,  0,  0,  0,  0,  0],\n",
       "       [ 0, 11,  0,  0,  0,  0],\n",
       "       [ 0,  0,  0,  0,  0,  0],\n",
       "       [ 0,  0,  0,  0, 56,  0],\n",
       "       [ 0,  0,  0,  0,  0,  0]])>"
      ]
     },
     "execution_count": 14,
     "metadata": {},
     "output_type": "execute_result"
    }
   ],
   "source": [
    "tf.sparse.to_dense(tensor_sparse)"
   ]
  },
  {
   "cell_type": "code",
   "execution_count": 15,
   "metadata": {},
   "outputs": [
    {
     "name": "stdout",
     "output_type": "stream",
     "text": [
      "tf.Tensor([b'hello' b'i am' b'a string'], shape=(3,), dtype=string)\n"
     ]
    }
   ],
   "source": [
    "tensor_string = tf.constant(['hello', 'i am', 'a string'])\n",
    "print(tensor_string)"
   ]
  },
  {
   "cell_type": "code",
   "execution_count": 16,
   "metadata": {},
   "outputs": [
    {
     "data": {
      "text/plain": [
       "<tf.Tensor: shape=(), dtype=string, numpy=b'helloi ama string'>"
      ]
     },
     "execution_count": 16,
     "metadata": {},
     "output_type": "execute_result"
    }
   ],
   "source": [
    "tf.strings.join(tensor_string, separator =\"\")\n",
    "     "
   ]
  },
  {
   "cell_type": "code",
   "execution_count": 17,
   "metadata": {},
   "outputs": [
    {
     "data": {
      "text/plain": [
       "<tf.Tensor: shape=(), dtype=string, numpy=b'hello i am a string'>"
      ]
     },
     "execution_count": 17,
     "metadata": {},
     "output_type": "execute_result"
    }
   ],
   "source": [
    "tf.strings.join(tensor_string, separator =' ')\n",
    "     "
   ]
  },
  {
   "cell_type": "code",
   "execution_count": 18,
   "metadata": {},
   "outputs": [
    {
     "data": {
      "text/plain": [
       "<tf.Tensor: shape=(), dtype=string, numpy=b'hello**i am**a string'>"
      ]
     },
     "execution_count": 18,
     "metadata": {},
     "output_type": "execute_result"
    }
   ],
   "source": [
    "tf.strings.join(tensor_string, separator =\"**\")\n",
    "     "
   ]
  },
  {
   "cell_type": "code",
   "execution_count": 19,
   "metadata": {},
   "outputs": [],
   "source": [
    "x = tf.constant([1,2])\n",
    "     "
   ]
  },
  {
   "cell_type": "code",
   "execution_count": 20,
   "metadata": {},
   "outputs": [
    {
     "name": "stdout",
     "output_type": "stream",
     "text": [
      "<tf.Variable 'Variable:0' shape=(2,) dtype=int32, numpy=array([1, 2])>\n"
     ]
    }
   ],
   "source": [
    "x_var = tf.Variable(x)\n",
    "print(x_var)"
   ]
  },
  {
   "cell_type": "code",
   "execution_count": 21,
   "metadata": {},
   "outputs": [
    {
     "name": "stdout",
     "output_type": "stream",
     "text": [
      "<tf.Variable 'var1:0' shape=(2,) dtype=int32, numpy=array([1, 2])>\n"
     ]
    }
   ],
   "source": [
    "x_var = tf.Variable(x, name = 'var1')\n",
    "print(x_var)"
   ]
  },
  {
   "cell_type": "code",
   "execution_count": 22,
   "metadata": {},
   "outputs": [
    {
     "data": {
      "text/plain": [
       "<tf.Variable 'UnreadVariable' shape=(2,) dtype=int32, numpy=array([-2, -2])>"
      ]
     },
     "execution_count": 22,
     "metadata": {},
     "output_type": "execute_result"
    }
   ],
   "source": [
    "x_var.assign_sub([3,4])"
   ]
  },
  {
   "cell_type": "code",
   "execution_count": 23,
   "metadata": {},
   "outputs": [
    {
     "data": {
      "text/plain": [
       "<tf.Variable 'UnreadVariable' shape=(2,) dtype=int32, numpy=array([3, 6])>"
      ]
     },
     "execution_count": 23,
     "metadata": {},
     "output_type": "execute_result"
    }
   ],
   "source": [
    "x_var.assign_add([5,8])"
   ]
  },
  {
   "cell_type": "code",
   "execution_count": 24,
   "metadata": {},
   "outputs": [
    {
     "name": "stdout",
     "output_type": "stream",
     "text": [
      "<tf.Variable 'Variable:0' shape=() dtype=float32, numpy=0.20000000298023224>\n"
     ]
    }
   ],
   "source": [
    "with tf.device('GPU:0'):\n",
    "  x_var = tf.Variable(0.2)\n",
    "\n",
    "print(x_var)"
   ]
  },
  {
   "cell_type": "code",
   "execution_count": 25,
   "metadata": {},
   "outputs": [
    {
     "name": "stdout",
     "output_type": "stream",
     "text": [
      "/job:localhost/replica:0/task:0/device:CPU:0\n"
     ]
    }
   ],
   "source": [
    "print(x_var.device)\n",
    "     "
   ]
  },
  {
   "cell_type": "code",
   "execution_count": 26,
   "metadata": {},
   "outputs": [
    {
     "name": "stdout",
     "output_type": "stream",
     "text": [
      "/job:localhost/replica:0/task:0/device:CPU:0\n",
      "/job:localhost/replica:0/task:0/device:CPU:0\n"
     ]
    }
   ],
   "source": [
    "with tf.device('GPU:0'):\n",
    "  x_var = tf.Variable(0.2)\n",
    "\n",
    "with tf.device('CPU:0'):\n",
    "  x_tensor = tf.constant(0.2)\n",
    "\n",
    "print(x_var.device)\n",
    "\n",
    "print(x_tensor.device)\n"
   ]
  },
  {
   "cell_type": "code",
   "execution_count": 27,
   "metadata": {},
   "outputs": [
    {
     "name": "stdout",
     "output_type": "stream",
     "text": [
      "tf.Tensor([1 3 4], shape=(3,), dtype=int32) /job:localhost/replica:0/task:0/device:CPU:0\n",
      "tf.Tensor([1], shape=(1,), dtype=int32) /job:localhost/replica:0/task:0/device:CPU:0\n",
      "tf.Tensor([2 4 5], shape=(3,), dtype=int32) /job:localhost/replica:0/task:0/device:CPU:0\n"
     ]
    }
   ],
   "source": [
    "with tf.device('CPU:0'):\n",
    "  x_1 = tf.constant([1,3,4])\n",
    "  x_2 = tf.constant([1])\n",
    "\n",
    "with tf.device('GPU:0'):\n",
    "  x_3 = x_1 + x_2\n",
    "\n",
    "print(x_1, x_1.device)\n",
    "print(x_2, x_2.device)\n",
    "print(x_3, x_3.device)"
   ]
  },
  {
   "cell_type": "code",
   "execution_count": null,
   "metadata": {},
   "outputs": [],
   "source": []
  }
 ],
 "metadata": {
  "kernelspec": {
   "display_name": "Python 3",
   "language": "python",
   "name": "python3"
  },
  "language_info": {
   "codemirror_mode": {
    "name": "ipython",
    "version": 3
   },
   "file_extension": ".py",
   "mimetype": "text/x-python",
   "name": "python",
   "nbconvert_exporter": "python",
   "pygments_lexer": "ipython3",
   "version": "3.12.9"
  }
 },
 "nbformat": 4,
 "nbformat_minor": 2
}
