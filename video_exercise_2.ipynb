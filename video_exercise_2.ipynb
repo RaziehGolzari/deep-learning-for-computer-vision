{
 "cells": [
  {
   "cell_type": "code",
   "execution_count": 4,
   "metadata": {},
   "outputs": [],
   "source": [
    "import tensorflow as tf"
   ]
  },
  {
   "cell_type": "code",
   "execution_count": 5,
   "metadata": {},
   "outputs": [
    {
     "name": "stdout",
     "output_type": "stream",
     "text": [
      "tf.Tensor([4.512287  5.671748  6.285118  7.0455027 2.5170994], shape=(5,), dtype=float32)\n"
     ]
    }
   ],
   "source": [
    "random_tensor = tf.random.uniform(\n",
    "    [5,],\n",
    "    minval = 0,\n",
    "    maxval = 8,\n",
    "    dtype = tf.dtypes.float32,\n",
    "    seed = None,\n",
    "    name = None,\n",
    ")\n",
    "print (random_tensor)"
   ]
  },
  {
   "cell_type": "code",
   "execution_count": 6,
   "metadata": {},
   "outputs": [
    {
     "name": "stdout",
     "output_type": "stream",
     "text": [
      "tf.Tensor([2 0 1], shape=(3,), dtype=int32)\n",
      "tf.Tensor([1 0 0], shape=(3,), dtype=int32)\n",
      "tf.Tensor([0 1 1], shape=(3,), dtype=int32)\n",
      "tf.Tensor([2 1 2], shape=(3,), dtype=int32)\n"
     ]
    }
   ],
   "source": [
    "tf.random.set_seed(5)\n",
    "print (tf.random.uniform(shape=[3,],maxval=3,dtype=tf.int32,seed=10))\n",
    "print (tf.random.uniform(shape=[3,],maxval=3,dtype=tf.int32,seed=10))\n",
    "print (tf.random.uniform(shape=[3,],maxval=3,dtype=tf.int32,seed=10))\n",
    "print (tf.random.uniform(shape=[3,],maxval=3,dtype=tf.int32,seed=10))"
   ]
  },
  {
   "cell_type": "code",
   "execution_count": 7,
   "metadata": {},
   "outputs": [
    {
     "name": "stdout",
     "output_type": "stream",
     "text": [
      "tf.Tensor([2 0 1], shape=(3,), dtype=int32)\n",
      "tf.Tensor([1 0 0], shape=(3,), dtype=int32)\n",
      "tf.Tensor([0 1 1], shape=(3,), dtype=int32)\n",
      "tf.Tensor([1 2 1], shape=(3,), dtype=int32)\n"
     ]
    }
   ],
   "source": [
    "tf.random.set_seed(5)\n",
    "print (tf.random.uniform(shape=[3,],maxval=3,dtype=tf.int32,seed=10))\n",
    "print (tf.random.uniform(shape=[3,],maxval=3,dtype=tf.int32,seed=10))\n",
    "print (tf.random.uniform(shape=[3,],maxval=3,dtype=tf.int32,seed=10))\n",
    "print (tf.random.uniform(shape=[3,],maxval=3,dtype=tf.int32,seed=5))"
   ]
  },
  {
   "cell_type": "code",
   "execution_count": 8,
   "metadata": {},
   "outputs": [
    {
     "name": "stdout",
     "output_type": "stream",
     "text": [
      "tf.Tensor([3 5 7 9 1 2 9 5 6], shape=(9,), dtype=int32)\n"
     ]
    }
   ],
   "source": [
    "tensor_indexed=tf.constant([3,5,7,9,1,2,9,5,6])\n",
    "print(tensor_indexed)"
   ]
  },
  {
   "cell_type": "code",
   "execution_count": 9,
   "metadata": {},
   "outputs": [
    {
     "name": "stdout",
     "output_type": "stream",
     "text": [
      "tf.Tensor([3 5 7 9], shape=(4,), dtype=int32)\n"
     ]
    }
   ],
   "source": [
    "print(tensor_indexed[0:4])"
   ]
  },
  {
   "cell_type": "code",
   "execution_count": 10,
   "metadata": {},
   "outputs": [
    {
     "name": "stdout",
     "output_type": "stream",
     "text": [
      "tf.Tensor([5 7 9 1 2], shape=(5,), dtype=int32)\n"
     ]
    }
   ],
   "source": [
    "print(tensor_indexed[1:5+1])"
   ]
  },
  {
   "cell_type": "code",
   "execution_count": 11,
   "metadata": {},
   "outputs": [
    {
     "data": {
      "text/plain": [
       "<tf.Tensor: shape=(4,), dtype=int32, numpy=array([2, 3, 4, 5])>"
      ]
     },
     "execution_count": 11,
     "metadata": {},
     "output_type": "execute_result"
    }
   ],
   "source": [
    "tf.range(2,6)"
   ]
  },
  {
   "cell_type": "code",
   "execution_count": 12,
   "metadata": {},
   "outputs": [],
   "source": [
    "tensor_two_d=tf.constant([[1,2,3],\n",
    "                          [3,4,5],\n",
    "                          [4,5,6],\n",
    "                          [5,6,7],])"
   ]
  },
  {
   "cell_type": "code",
   "execution_count": 13,
   "metadata": {},
   "outputs": [
    {
     "name": "stdout",
     "output_type": "stream",
     "text": [
      "tf.Tensor(\n",
      "[[1 2 3]\n",
      " [3 4 5]\n",
      " [4 5 6]], shape=(3, 3), dtype=int32)\n"
     ]
    }
   ],
   "source": [
    "print(tensor_two_d[:3,:])"
   ]
  },
  {
   "cell_type": "code",
   "execution_count": 14,
   "metadata": {},
   "outputs": [
    {
     "name": "stdout",
     "output_type": "stream",
     "text": [
      "tf.Tensor([1 3 4 5], shape=(4,), dtype=int32)\n"
     ]
    }
   ],
   "source": [
    "print(tensor_two_d[:,0])"
   ]
  },
  {
   "cell_type": "code",
   "execution_count": 15,
   "metadata": {},
   "outputs": [
    {
     "name": "stdout",
     "output_type": "stream",
     "text": [
      "tf.Tensor([2 4 5 6], shape=(4,), dtype=int32)\n"
     ]
    }
   ],
   "source": [
    "print(tensor_two_d[...,1])"
   ]
  },
  {
   "cell_type": "code",
   "execution_count": 16,
   "metadata": {},
   "outputs": [],
   "source": [
    "tensor_three_d=tf.constant([\n",
    "    [[2,20,3],\n",
    "     [3,4,5]],\n",
    "    [[4,78,6],\n",
    "     [5,46,7]],\n",
    "    [[6,103,8],\n",
    "    [7,8,999]],\n",
    "])\n"
   ]
  },
  {
   "cell_type": "code",
   "execution_count": 17,
   "metadata": {},
   "outputs": [
    {
     "name": "stdout",
     "output_type": "stream",
     "text": [
      "tf.Tensor([ 2 20  3], shape=(3,), dtype=int32)\n"
     ]
    }
   ],
   "source": [
    "print(tensor_three_d[0,0,:])"
   ]
  },
  {
   "cell_type": "code",
   "execution_count": 18,
   "metadata": {},
   "outputs": [
    {
     "data": {
      "text/plain": [
       "<tf.Tensor: shape=(2,), dtype=float32, numpy=array([2.25, 3.25], dtype=float32)>"
      ]
     },
     "execution_count": 18,
     "metadata": {},
     "output_type": "execute_result"
    }
   ],
   "source": [
    "x_abs=tf.constant ([-2.25,3.25])\n",
    "tf.abs(x_abs)"
   ]
  },
  {
   "cell_type": "code",
   "execution_count": 19,
   "metadata": {},
   "outputs": [
    {
     "data": {
      "text/plain": [
       "<tf.Tensor: shape=(), dtype=float32, numpy=0.20000000298023224>"
      ]
     },
     "execution_count": 19,
     "metadata": {},
     "output_type": "execute_result"
    }
   ],
   "source": [
    "tf.abs(tf.constant(-0.2))"
   ]
  },
  {
   "cell_type": "code",
   "execution_count": 20,
   "metadata": {},
   "outputs": [
    {
     "data": {
      "text/plain": [
       "<tf.Tensor: shape=(1,), dtype=float64, numpy=array([5.25594901])>"
      ]
     },
     "execution_count": 20,
     "metadata": {},
     "output_type": "execute_result"
    }
   ],
   "source": [
    "x_abs_complex=tf.constant([-2.25+4.75j])\n",
    "tf.abs(x_abs_complex)"
   ]
  },
  {
   "cell_type": "code",
   "execution_count": 21,
   "metadata": {},
   "outputs": [
    {
     "data": {
      "text/plain": [
       "<tf.Tensor: shape=(), dtype=float32, numpy=5.255949020385742>"
      ]
     },
     "execution_count": 21,
     "metadata": {},
     "output_type": "execute_result"
    }
   ],
   "source": [
    "tf.sqrt ((-2.25)**2+4.75**2)"
   ]
  },
  {
   "cell_type": "code",
   "execution_count": 22,
   "metadata": {},
   "outputs": [
    {
     "name": "stdout",
     "output_type": "stream",
     "text": [
      "tf.Tensor([0.71428571 0.5        3.         1.         0.57142857 0.54545455], shape=(6,), dtype=float64)\n"
     ]
    }
   ],
   "source": [
    "x_1 = tf.constant ([5,3,6,6,4,6],dtype=tf.int32)\n",
    "x_2 = tf.constant ([7,6,2,6,7,11],dtype=tf.int32)\n",
    "print (tf.divide (x_1 , x_2))"
   ]
  },
  {
   "cell_type": "code",
   "execution_count": 23,
   "metadata": {},
   "outputs": [
    {
     "name": "stdout",
     "output_type": "stream",
     "text": [
      "(1, 6)\n",
      "(3, 1)\n",
      "tf.Tensor(\n",
      "[[35. 21. 42. 42. 28. 42.]\n",
      " [25. 15. 30. 30. 20. 30.]\n",
      " [15.  9. 18. 18. 12. 18.]], shape=(3, 6), dtype=float32)\n"
     ]
    }
   ],
   "source": [
    "x_1 = tf.constant ([[5,3,6,6,4,6],], dtype=tf.float32)\n",
    "x_2 = tf.constant ([[7],[5],[3]], dtype = tf.float32)\n",
    "\n",
    "print(x_1.shape)\n",
    "print(x_2.shape)\n",
    "print(tf.math.multiply(x_1,x_2))"
   ]
  },
  {
   "cell_type": "code",
   "execution_count": 24,
   "metadata": {},
   "outputs": [
    {
     "name": "stdout",
     "output_type": "stream",
     "text": [
      "(3, 5)\n",
      "tf.Tensor([2 2 0 2 2], shape=(5,), dtype=int64)\n"
     ]
    }
   ],
   "source": [
    "x_argmax=tf.constant([[2,20,30,3,6],\n",
    "                      [3,11,16,1,8],\n",
    "                      [14,45,23,5,27]])\n",
    "\n",
    "print (x_argmax.shape)\n",
    "print (tf.math.argmax(x_argmax,0))"
   ]
  },
  {
   "cell_type": "code",
   "execution_count": 25,
   "metadata": {},
   "outputs": [
    {
     "name": "stdout",
     "output_type": "stream",
     "text": [
      "tf.Tensor(0, shape=(), dtype=int64)\n"
     ]
    }
   ],
   "source": [
    "x_argmax=tf.constant ([200,120,130,3,6])\n",
    "print (tf.math.argmax(x_argmax))\n",
    "     \n"
   ]
  },
  {
   "cell_type": "code",
   "execution_count": 26,
   "metadata": {},
   "outputs": [
    {
     "name": "stdout",
     "output_type": "stream",
     "text": [
      "tf.Tensor(3, shape=(), dtype=int64)\n"
     ]
    }
   ],
   "source": [
    "x_argmax=tf.constant([200,120,130,300,6])\n",
    "print(tf.math.argmax(x_argmax))"
   ]
  },
  {
   "cell_type": "code",
   "execution_count": 27,
   "metadata": {},
   "outputs": [
    {
     "data": {
      "text/plain": [
       "<tf.Tensor: shape=(2, 2), dtype=int32, numpy=\n",
       "array([[ 8,  1],\n",
       "       [ 3, 81]])>"
      ]
     },
     "execution_count": 27,
     "metadata": {},
     "output_type": "execute_result"
    }
   ],
   "source": [
    "x=tf.constant([[2,2],[3,3]])\n",
    "y=tf.constant([[3,0],[1,4]])\n",
    "tf.pow(x,y)\n",
    "     \n"
   ]
  },
  {
   "cell_type": "code",
   "execution_count": 28,
   "metadata": {},
   "outputs": [
    {
     "data": {
      "text/plain": [
       "<tf.Tensor: shape=(), dtype=int32, numpy=8>"
      ]
     },
     "execution_count": 28,
     "metadata": {},
     "output_type": "execute_result"
    }
   ],
   "source": [
    "tf.pow(tf.constant(2),tf.constant(3))"
   ]
  },
  {
   "cell_type": "code",
   "execution_count": 29,
   "metadata": {},
   "outputs": [
    {
     "name": "stdout",
     "output_type": "stream",
     "text": [
      "(4, 3)\n",
      "tf.Tensor([  7  11 114], shape=(3,), dtype=int32)\n"
     ]
    }
   ],
   "source": [
    "tensor_two_d=tf.constant([\n",
    "    [1,-2,0],\n",
    "    [3,5,100],\n",
    "    [1,5,6],\n",
    "    [2,3,8]\n",
    "    ])\n",
    "print(tensor_two_d.shape)\n",
    "print(tf.math.reduce_sum(tensor_two_d,axis=0,keepdims=False,name=None))"
   ]
  },
  {
   "cell_type": "code",
   "execution_count": 30,
   "metadata": {},
   "outputs": [
    {
     "data": {
      "text/plain": [
       "TopKV2(values=<tf.Tensor: shape=(4, 1), dtype=int32, numpy=\n",
       "array([[  1],\n",
       "       [100],\n",
       "       [  6],\n",
       "       [  8]])>, indices=<tf.Tensor: shape=(4, 1), dtype=int32, numpy=\n",
       "array([[0],\n",
       "       [2],\n",
       "       [2],\n",
       "       [2]])>)"
      ]
     },
     "execution_count": 30,
     "metadata": {},
     "output_type": "execute_result"
    }
   ],
   "source": [
    "tf.math.top_k(tensor_two_d,k=1)\n",
    "     "
   ]
  },
  {
   "cell_type": "code",
   "execution_count": 31,
   "metadata": {},
   "outputs": [
    {
     "name": "stdout",
     "output_type": "stream",
     "text": [
      "(2, 3) (3, 4)\n"
     ]
    },
    {
     "data": {
      "text/plain": [
       "<tf.Tensor: shape=(2, 4), dtype=int32, numpy=\n",
       "array([[  7,  12,  -2,   6],\n",
       "       [ 14,  26, -11,  16]])>"
      ]
     },
     "execution_count": 31,
     "metadata": {},
     "output_type": "execute_result"
    }
   ],
   "source": [
    "x_1 = tf.constant ([[1,2,0],\n",
    "                    [3,5,-1]])\n",
    "x_2 = tf.constant ([[1,2,0,2],\n",
    "                    [3,5,-1,2],\n",
    "                    [4,5,6,0]])\n",
    "print(x_1.shape,x_2.shape)\n",
    "tf.linalg.matmul(\n",
    "x_1,x_2,transpose_a=False,transpose_b=False, adjoint_a=False, adjoint_b=False,\n",
    "a_is_sparse=False, b_is_sparse=False, output_type=None\n",
    ")"
   ]
  },
  {
   "cell_type": "code",
   "execution_count": 32,
   "metadata": {},
   "outputs": [
    {
     "name": "stdout",
     "output_type": "stream",
     "text": [
      "tf.Tensor(\n",
      "[[  7  12  -2   6]\n",
      " [ 14  26 -11  16]], shape=(2, 4), dtype=int32)\n"
     ]
    }
   ],
   "source": [
    "print(x_1@x_2)"
   ]
  },
  {
   "cell_type": "code",
   "execution_count": 33,
   "metadata": {},
   "outputs": [
    {
     "name": "stdout",
     "output_type": "stream",
     "text": [
      "(1, 3) (3, 2) (2, 4) (2, 3)\n",
      "tf.Tensor(\n",
      "[[ 7 18 19]\n",
      " [12 31 33]\n",
      " [-2 -5 -5]\n",
      " [ 6 16 18]], shape=(4, 3), dtype=int32)\n"
     ]
    },
    {
     "data": {
      "text/plain": [
       "<tf.Tensor: shape=(4, 3), dtype=int32, numpy=\n",
       "array([[ 7, 18, 19],\n",
       "       [12, 31, 33],\n",
       "       [-2, -5, -5],\n",
       "       [ 6, 16, 18]])>"
      ]
     },
     "execution_count": 33,
     "metadata": {},
     "output_type": "execute_result"
    }
   ],
   "source": [
    "x_1 = tf.constant([[1,2,0]])\n",
    "\n",
    "x_2 = tf.constant([[1,2],\n",
    "                   [3,5],\n",
    "                   [4,5]])\n",
    "\n",
    "x_3 = tf.constant([[1,2,0,2],\n",
    "                   [3,5,-1,2]])\n",
    "\n",
    "print(x_1.shape, x_2.shape, x_3.shape, tf.transpose(x_2).shape)\n",
    "\n",
    "print(tf.transpose(x_3)@tf.transpose(x_2))\n",
    "\n",
    "tf.linalg.matmul(\n",
    "    x_3, x_2, transpose_a = True,transpose_b = True, adjoint_a = False, adjoint_b = False,\n",
    "    a_is_sparse = False, b_is_sparse = False, output_type=None, name=None\n",
    ")"
   ]
  },
  {
   "cell_type": "code",
   "execution_count": 35,
   "metadata": {},
   "outputs": [
    {
     "name": "stdout",
     "output_type": "stream",
     "text": [
      "tf.Tensor(\n",
      "[[[ 1  2]\n",
      "  [ 3  5]]\n",
      "\n",
      " [[10  2]\n",
      "  [ 1  0]]\n",
      "\n",
      " [[ 5  8]\n",
      "  [ 2  7]]], shape=(3, 2, 2), dtype=int32)\n",
      "tf.Tensor(\n",
      "[[[ 5  1  4]\n",
      "  [34 15  1]]\n",
      "\n",
      " [[ 1  2  2]\n",
      "  [ 5  3  2]]\n",
      "\n",
      " [[ 2  2  3]\n",
      "  [ 1  1  1]]], shape=(3, 2, 3), dtype=int32)\n",
      "tf.Tensor(\n",
      "[[[ 73  31   6]\n",
      "  [185  78  17]]\n",
      "\n",
      " [[ 20  26  24]\n",
      "  [  1   2   2]]\n",
      "\n",
      " [[ 18  18  23]\n",
      "  [ 11  11  13]]], shape=(3, 2, 3), dtype=int32)\n"
     ]
    }
   ],
   "source": [
    "x_1 = tf.constant([[[1,2],\n",
    "                    [3,5]],\n",
    "\n",
    "                   [[10,2],\n",
    "                    [1,0]],\n",
    "\n",
    "                   [[5,8],\n",
    "                    [2,7]]])\n",
    "\n",
    "x_2 = tf.constant([[[5,1,4],\n",
    "                    [34,15,1]],\n",
    "\n",
    "                   [[1,2,2],\n",
    "                    [5,3,2]],\n",
    "\n",
    "                   [[2,2,3],\n",
    "                    [1,1,1]]])\n",
    "print(x_1)\n",
    "print(x_2)\n",
    "\n",
    "print(tf.linalg.matmul(x_1,x_2))"
   ]
  },
  {
   "cell_type": "code",
   "execution_count": 36,
   "metadata": {},
   "outputs": [
    {
     "data": {
      "text/plain": [
       "<tf.Tensor: shape=(4, 3), dtype=float16, numpy=\n",
       "array([[1., 0., 0.],\n",
       "       [0., 5., 0.],\n",
       "       [0., 0., 6.],\n",
       "       [0., 0., 0.]], dtype=float16)>"
      ]
     },
     "execution_count": 36,
     "metadata": {},
     "output_type": "execute_result"
    }
   ],
   "source": [
    "tensor_two_d = tf.constant([[1,-2,0],\n",
    "                            [3,5,100],\n",
    "                            [1,5,6],\n",
    "                            [2,3,8]], dtype = tf.float16)\n",
    "tensor_out_d = tf.constant([[1,0,0],\n",
    "                            [0,5,0],\n",
    "                            [0,0,6],\n",
    "                            [0,0,0]], dtype = tf.float16)\n",
    "tf.linalg.band_part(tensor_two_d, 0,0)"
   ]
  },
  {
   "cell_type": "code",
   "execution_count": 37,
   "metadata": {},
   "outputs": [
    {
     "data": {
      "text/plain": [
       "<tf.Tensor: shape=(4, 3), dtype=float16, numpy=\n",
       "array([[1., 0., 0.],\n",
       "       [3., 5., 0.],\n",
       "       [1., 5., 6.],\n",
       "       [2., 3., 8.]], dtype=float16)>"
      ]
     },
     "execution_count": 37,
     "metadata": {},
     "output_type": "execute_result"
    }
   ],
   "source": [
    "tensor_two_d = tf.constant([[1,-2,0],\n",
    "                            [3,5,100],\n",
    "                            [1,5,6],\n",
    "                            [2,3,8]], dtype = tf.float16)\n",
    "tensor_out_d = tf.constant([[1,0,0],\n",
    "                            [0,5,0],\n",
    "                            [0,0,6],\n",
    "                            [0,0,0]], dtype = tf.float16)\n",
    "tf.linalg.band_part(tensor_two_d, -1,0)\n"
   ]
  },
  {
   "cell_type": "code",
   "execution_count": 38,
   "metadata": {},
   "outputs": [
    {
     "data": {
      "text/plain": [
       "<tf.Tensor: shape=(4, 3), dtype=float16, numpy=\n",
       "array([[  1.,  -2.,   0.],\n",
       "       [  0.,   5., 100.],\n",
       "       [  0.,   0.,   6.],\n",
       "       [  0.,   0.,   0.]], dtype=float16)>"
      ]
     },
     "execution_count": 38,
     "metadata": {},
     "output_type": "execute_result"
    }
   ],
   "source": [
    "tensor_two_d = tf.constant([[1,-2,0],\n",
    "                            [3,5,100],\n",
    "                            [1,5,6],\n",
    "                            [2,3,8]], dtype = tf.float16)\n",
    "tensor_out_d = tf.constant([[1,0,0],\n",
    "                            [0,5,0],\n",
    "                            [0,0,6],\n",
    "                            [0,0,0]], dtype = tf.float16)\n",
    "tf.linalg.band_part(tensor_two_d, 0,-1)\n"
   ]
  },
  {
   "cell_type": "code",
   "execution_count": 39,
   "metadata": {},
   "outputs": [],
   "source": [
    "tensor_two_d = tf.constant([[1,-2,0],\n",
    "                            [3,5,100],\n",
    "                            [1,5,6]], dtype = tf.float32)\n",
    "tensor_two_d_inv = tf.linalg.inv(tensor_two_d)"
   ]
  },
  {
   "cell_type": "code",
   "execution_count": 42,
   "metadata": {},
   "outputs": [
    {
     "data": {
      "text/plain": [
       "<tf.Tensor: shape=(3, 3), dtype=float32, numpy=\n",
       "array([[ 1.0000000e+00,  7.4505806e-09,  0.0000000e+00],\n",
       "       [ 1.6391277e-07,  1.0000000e+00,  1.6391277e-07],\n",
       "       [-5.2154064e-08,  7.4505806e-08,  1.0000000e+00]], dtype=float32)>"
      ]
     },
     "execution_count": 42,
     "metadata": {},
     "output_type": "execute_result"
    }
   ],
   "source": [
    "tensor_two_d @ tensor_two_d_inv"
   ]
  },
  {
   "cell_type": "code",
   "execution_count": null,
   "metadata": {},
   "outputs": [],
   "source": []
  }
 ],
 "metadata": {
  "kernelspec": {
   "display_name": "Python 3",
   "language": "python",
   "name": "python3"
  },
  "language_info": {
   "codemirror_mode": {
    "name": "ipython",
    "version": 3
   },
   "file_extension": ".py",
   "mimetype": "text/x-python",
   "name": "python",
   "nbconvert_exporter": "python",
   "pygments_lexer": "ipython3",
   "version": "3.12.9"
  }
 },
 "nbformat": 4,
 "nbformat_minor": 2
}
