{
 "cells": [
  {
   "cell_type": "code",
   "execution_count": 2,
   "metadata": {},
   "outputs": [],
   "source": [
    "import tensorflow as tf"
   ]
  },
  {
   "cell_type": "code",
   "execution_count": 6,
   "metadata": {},
   "outputs": [
    {
     "name": "stdout",
     "output_type": "stream",
     "text": [
      "tf.Tensor([5.291007   4.0108805  0.62597656 3.2059984  3.7581415 ], shape=(5,), dtype=float32)\n"
     ]
    }
   ],
   "source": [
    "random_tensor = tf.random.uniform(\n",
    "    [5,],\n",
    "    minval = 0,\n",
    "    maxval = 8,\n",
    "    dtype = tf.dtypes.float32,\n",
    "    seed = None,\n",
    "    name = None,\n",
    ")\n",
    "print (random_tensor)"
   ]
  },
  {
   "cell_type": "code",
   "execution_count": 10,
   "metadata": {},
   "outputs": [
    {
     "name": "stdout",
     "output_type": "stream",
     "text": [
      "tf.Tensor([2 0 1], shape=(3,), dtype=int32)\n",
      "tf.Tensor([1 0 0], shape=(3,), dtype=int32)\n",
      "tf.Tensor([0 1 1], shape=(3,), dtype=int32)\n",
      "tf.Tensor([2 1 2], shape=(3,), dtype=int32)\n"
     ]
    }
   ],
   "source": [
    "tf.random.set_seed(5)\n",
    "print (tf.random.uniform(shape=[3,],maxval=3,dtype=tf.int32,seed=10))\n",
    "print (tf.random.uniform(shape=[3,],maxval=3,dtype=tf.int32,seed=10))\n",
    "print (tf.random.uniform(shape=[3,],maxval=3,dtype=tf.int32,seed=10))\n",
    "print (tf.random.uniform(shape=[3,],maxval=3,dtype=tf.int32,seed=10))"
   ]
  },
  {
   "cell_type": "code",
   "execution_count": 12,
   "metadata": {},
   "outputs": [
    {
     "name": "stdout",
     "output_type": "stream",
     "text": [
      "tf.Tensor([2 0 1], shape=(3,), dtype=int32)\n",
      "tf.Tensor([1 0 0], shape=(3,), dtype=int32)\n",
      "tf.Tensor([0 1 1], shape=(3,), dtype=int32)\n",
      "tf.Tensor([1 2 1], shape=(3,), dtype=int32)\n"
     ]
    }
   ],
   "source": [
    "tf.random.set_seed(5)\n",
    "print (tf.random.uniform(shape=[3,],maxval=3,dtype=tf.int32,seed=10))\n",
    "print (tf.random.uniform(shape=[3,],maxval=3,dtype=tf.int32,seed=10))\n",
    "print (tf.random.uniform(shape=[3,],maxval=3,dtype=tf.int32,seed=10))\n",
    "print (tf.random.uniform(shape=[3,],maxval=3,dtype=tf.int32,seed=5))"
   ]
  },
  {
   "cell_type": "code",
   "execution_count": 13,
   "metadata": {},
   "outputs": [
    {
     "name": "stdout",
     "output_type": "stream",
     "text": [
      "tf.Tensor([3 5 7 9 1 2 9 5 6], shape=(9,), dtype=int32)\n"
     ]
    }
   ],
   "source": [
    "tensor_indexed=tf.constant([3,5,7,9,1,2,9,5,6])\n",
    "print(tensor_indexed)"
   ]
  },
  {
   "cell_type": "code",
   "execution_count": 14,
   "metadata": {},
   "outputs": [
    {
     "name": "stdout",
     "output_type": "stream",
     "text": [
      "tf.Tensor([3 5 7 9], shape=(4,), dtype=int32)\n"
     ]
    }
   ],
   "source": [
    "print(tensor_indexed[0:4])"
   ]
  },
  {
   "cell_type": "code",
   "execution_count": 16,
   "metadata": {},
   "outputs": [
    {
     "name": "stdout",
     "output_type": "stream",
     "text": [
      "tf.Tensor([5 7 9 1 2], shape=(5,), dtype=int32)\n"
     ]
    }
   ],
   "source": [
    "print(tensor_indexed[1:5+1])"
   ]
  },
  {
   "cell_type": "code",
   "execution_count": 17,
   "metadata": {},
   "outputs": [
    {
     "data": {
      "text/plain": [
       "<tf.Tensor: shape=(4,), dtype=int32, numpy=array([2, 3, 4, 5])>"
      ]
     },
     "execution_count": 17,
     "metadata": {},
     "output_type": "execute_result"
    }
   ],
   "source": [
    "tf.range(2,6)"
   ]
  },
  {
   "cell_type": "code",
   "execution_count": 18,
   "metadata": {},
   "outputs": [],
   "source": [
    "tensor_two_d=tf.constant([[1,2,3],\n",
    "                          [3,4,5],\n",
    "                          [4,5,6],\n",
    "                          [5,6,7],])"
   ]
  },
  {
   "cell_type": "code",
   "execution_count": 21,
   "metadata": {},
   "outputs": [
    {
     "name": "stdout",
     "output_type": "stream",
     "text": [
      "tf.Tensor(\n",
      "[[1 2 3]\n",
      " [3 4 5]\n",
      " [4 5 6]], shape=(3, 3), dtype=int32)\n"
     ]
    }
   ],
   "source": [
    "print(tensor_two_d[:3,:])"
   ]
  },
  {
   "cell_type": "code",
   "execution_count": 22,
   "metadata": {},
   "outputs": [
    {
     "name": "stdout",
     "output_type": "stream",
     "text": [
      "tf.Tensor([1 3 4 5], shape=(4,), dtype=int32)\n"
     ]
    }
   ],
   "source": [
    "print(tensor_two_d[:,0])"
   ]
  },
  {
   "cell_type": "code",
   "execution_count": 23,
   "metadata": {},
   "outputs": [
    {
     "name": "stdout",
     "output_type": "stream",
     "text": [
      "tf.Tensor([2 4 5 6], shape=(4,), dtype=int32)\n"
     ]
    }
   ],
   "source": [
    "print(tensor_two_d[...,1])"
   ]
  },
  {
   "cell_type": "code",
   "execution_count": null,
   "metadata": {},
   "outputs": [],
   "source": []
  }
 ],
 "metadata": {
  "kernelspec": {
   "display_name": "Python 3",
   "language": "python",
   "name": "python3"
  },
  "language_info": {
   "codemirror_mode": {
    "name": "ipython",
    "version": 3
   },
   "file_extension": ".py",
   "mimetype": "text/x-python",
   "name": "python",
   "nbconvert_exporter": "python",
   "pygments_lexer": "ipython3",
   "version": "3.12.9"
  }
 },
 "nbformat": 4,
 "nbformat_minor": 2
}
